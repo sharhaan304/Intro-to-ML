{
 "cells": [
  {
   "cell_type": "markdown",
   "id": "f5ecb4e6",
   "metadata": {
    "papermill": {
     "duration": 0.005938,
     "end_time": "2024-01-29T16:57:22.892694",
     "exception": false,
     "start_time": "2024-01-29T16:57:22.886756",
     "status": "completed"
    },
    "tags": []
   },
   "source": [
    "**This notebook is an exercise in the [Introduction to Machine Learning](https://www.kaggle.com/learn/intro-to-machine-learning) course.  You can reference the tutorial at [this link](https://www.kaggle.com/dansbecker/your-first-machine-learning-model).**\n",
    "\n",
    "---\n"
   ]
  },
  {
   "cell_type": "markdown",
   "id": "e92cb574",
   "metadata": {
    "papermill": {
     "duration": 0.004817,
     "end_time": "2024-01-29T16:57:22.903313",
     "exception": false,
     "start_time": "2024-01-29T16:57:22.898496",
     "status": "completed"
    },
    "tags": []
   },
   "source": [
    "## Recap\n",
    "So far, you have loaded your data and reviewed it with the following code. Run this cell to set up your coding environment where the previous step left off."
   ]
  },
  {
   "cell_type": "code",
   "execution_count": 1,
   "id": "13a536c9",
   "metadata": {
    "execution": {
     "iopub.execute_input": "2024-01-29T16:57:22.916372Z",
     "iopub.status.busy": "2024-01-29T16:57:22.915728Z",
     "iopub.status.idle": "2024-01-29T16:57:24.737782Z",
     "shell.execute_reply": "2024-01-29T16:57:24.736678Z"
    },
    "papermill": {
     "duration": 1.831645,
     "end_time": "2024-01-29T16:57:24.740139",
     "exception": false,
     "start_time": "2024-01-29T16:57:22.908494",
     "status": "completed"
    },
    "tags": []
   },
   "outputs": [
    {
     "name": "stdout",
     "output_type": "stream",
     "text": [
      "Setup Complete\n"
     ]
    }
   ],
   "source": [
    "# Code you have previously used to load data\n",
    "import pandas as pd\n",
    "\n",
    "# Path of the file to read\n",
    "iowa_file_path = '../input/home-data-for-ml-course/train.csv'\n",
    "\n",
    "home_data = pd.read_csv(iowa_file_path)\n",
    "\n",
    "# Set up code checking\n",
    "from learntools.core import binder\n",
    "binder.bind(globals())\n",
    "from learntools.machine_learning.ex3 import *\n",
    "\n",
    "print(\"Setup Complete\")"
   ]
  },
  {
   "cell_type": "markdown",
   "id": "4d977bc2",
   "metadata": {
    "papermill": {
     "duration": 0.00497,
     "end_time": "2024-01-29T16:57:24.750450",
     "exception": false,
     "start_time": "2024-01-29T16:57:24.745480",
     "status": "completed"
    },
    "tags": []
   },
   "source": [
    "# Exercises\n",
    "\n",
    "## Step 1: Specify Prediction Target\n",
    "Select the target variable, which corresponds to the sales price. Save this to a new variable called `y`. You'll need to print a list of the columns to find the name of the column you need.\n"
   ]
  },
  {
   "cell_type": "code",
   "execution_count": null,
   "id": "237fcb5d",
   "metadata": {
    "papermill": {
     "duration": 0.004812,
     "end_time": "2024-01-29T16:57:24.760317",
     "exception": false,
     "start_time": "2024-01-29T16:57:24.755505",
     "status": "completed"
    },
    "tags": []
   },
   "outputs": [],
   "source": []
  },
  {
   "cell_type": "code",
   "execution_count": 2,
   "id": "7c782dc7",
   "metadata": {
    "execution": {
     "iopub.execute_input": "2024-01-29T16:57:24.772831Z",
     "iopub.status.busy": "2024-01-29T16:57:24.772221Z",
     "iopub.status.idle": "2024-01-29T16:57:24.780310Z",
     "shell.execute_reply": "2024-01-29T16:57:24.779263Z"
    },
    "papermill": {
     "duration": 0.016892,
     "end_time": "2024-01-29T16:57:24.782418",
     "exception": false,
     "start_time": "2024-01-29T16:57:24.765526",
     "status": "completed"
    },
    "tags": []
   },
   "outputs": [
    {
     "data": {
      "text/plain": [
       "Index(['Id', 'MSSubClass', 'MSZoning', 'LotFrontage', 'LotArea', 'Street',\n",
       "       'Alley', 'LotShape', 'LandContour', 'Utilities', 'LotConfig',\n",
       "       'LandSlope', 'Neighborhood', 'Condition1', 'Condition2', 'BldgType',\n",
       "       'HouseStyle', 'OverallQual', 'OverallCond', 'YearBuilt', 'YearRemodAdd',\n",
       "       'RoofStyle', 'RoofMatl', 'Exterior1st', 'Exterior2nd', 'MasVnrType',\n",
       "       'MasVnrArea', 'ExterQual', 'ExterCond', 'Foundation', 'BsmtQual',\n",
       "       'BsmtCond', 'BsmtExposure', 'BsmtFinType1', 'BsmtFinSF1',\n",
       "       'BsmtFinType2', 'BsmtFinSF2', 'BsmtUnfSF', 'TotalBsmtSF', 'Heating',\n",
       "       'HeatingQC', 'CentralAir', 'Electrical', '1stFlrSF', '2ndFlrSF',\n",
       "       'LowQualFinSF', 'GrLivArea', 'BsmtFullBath', 'BsmtHalfBath', 'FullBath',\n",
       "       'HalfBath', 'BedroomAbvGr', 'KitchenAbvGr', 'KitchenQual',\n",
       "       'TotRmsAbvGrd', 'Functional', 'Fireplaces', 'FireplaceQu', 'GarageType',\n",
       "       'GarageYrBlt', 'GarageFinish', 'GarageCars', 'GarageArea', 'GarageQual',\n",
       "       'GarageCond', 'PavedDrive', 'WoodDeckSF', 'OpenPorchSF',\n",
       "       'EnclosedPorch', '3SsnPorch', 'ScreenPorch', 'PoolArea', 'PoolQC',\n",
       "       'Fence', 'MiscFeature', 'MiscVal', 'MoSold', 'YrSold', 'SaleType',\n",
       "       'SaleCondition', 'SalePrice'],\n",
       "      dtype='object')"
      ]
     },
     "execution_count": 2,
     "metadata": {},
     "output_type": "execute_result"
    }
   ],
   "source": [
    "# print the list of columns in the dataset to find the name of the prediction target\n",
    "home_data.columns"
   ]
  },
  {
   "cell_type": "code",
   "execution_count": 3,
   "id": "0f71396c",
   "metadata": {
    "execution": {
     "iopub.execute_input": "2024-01-29T16:57:24.795400Z",
     "iopub.status.busy": "2024-01-29T16:57:24.794757Z",
     "iopub.status.idle": "2024-01-29T16:57:24.808217Z",
     "shell.execute_reply": "2024-01-29T16:57:24.807457Z"
    },
    "papermill": {
     "duration": 0.022356,
     "end_time": "2024-01-29T16:57:24.810189",
     "exception": false,
     "start_time": "2024-01-29T16:57:24.787833",
     "status": "completed"
    },
    "tags": []
   },
   "outputs": [
    {
     "data": {
      "application/javascript": [
       "parent.postMessage({\"jupyterEvent\": \"custom.exercise_interaction\", \"data\": {\"outcomeType\": 1, \"valueTowardsCompletion\": 0.25, \"interactionType\": 1, \"questionType\": 2, \"questionId\": \"1_SetTarget\", \"learnToolsVersion\": \"0.3.4\", \"failureMessage\": \"\", \"exceptionClass\": \"\", \"trace\": \"\"}}, \"*\")"
      ],
      "text/plain": [
       "<IPython.core.display.Javascript object>"
      ]
     },
     "metadata": {},
     "output_type": "display_data"
    },
    {
     "data": {
      "text/markdown": [
       "<span style=\"color:#33cc33\">Correct</span>"
      ],
      "text/plain": [
       "Correct"
      ]
     },
     "metadata": {},
     "output_type": "display_data"
    }
   ],
   "source": [
    "y = home_data.SalePrice\n",
    "\n",
    "# Check your answer\n",
    "step_1.check()"
   ]
  },
  {
   "cell_type": "code",
   "execution_count": 4,
   "id": "8e24b852",
   "metadata": {
    "execution": {
     "iopub.execute_input": "2024-01-29T16:57:24.824795Z",
     "iopub.status.busy": "2024-01-29T16:57:24.824142Z",
     "iopub.status.idle": "2024-01-29T16:57:24.828081Z",
     "shell.execute_reply": "2024-01-29T16:57:24.827125Z"
    },
    "papermill": {
     "duration": 0.014362,
     "end_time": "2024-01-29T16:57:24.830134",
     "exception": false,
     "start_time": "2024-01-29T16:57:24.815772",
     "status": "completed"
    },
    "tags": []
   },
   "outputs": [],
   "source": [
    "# The lines below will show you a hint or the solution.\n",
    "# step_1.hint() \n",
    "# step_1.solution()"
   ]
  },
  {
   "cell_type": "markdown",
   "id": "06e9e56a",
   "metadata": {
    "papermill": {
     "duration": 0.00539,
     "end_time": "2024-01-29T16:57:24.841451",
     "exception": false,
     "start_time": "2024-01-29T16:57:24.836061",
     "status": "completed"
    },
    "tags": []
   },
   "source": [
    "## Step 2: Create X\n",
    "Now you will create a DataFrame called `X` holding the predictive features.\n",
    "\n",
    "Since you want only some columns from the original data, you'll first create a list with the names of the columns you want in `X`.\n",
    "\n",
    "You'll use just the following columns in the list (you can copy and paste the whole list to save some typing, though you'll still need to add quotes):\n",
    "  * LotArea\n",
    "  * YearBuilt\n",
    "  * 1stFlrSF\n",
    "  * 2ndFlrSF\n",
    "  * FullBath\n",
    "  * BedroomAbvGr\n",
    "  * TotRmsAbvGrd\n",
    "\n",
    "After you've created that list of features, use it to create the DataFrame that you'll use to fit the model."
   ]
  },
  {
   "cell_type": "code",
   "execution_count": 5,
   "id": "0946786a",
   "metadata": {
    "execution": {
     "iopub.execute_input": "2024-01-29T16:57:24.854412Z",
     "iopub.status.busy": "2024-01-29T16:57:24.853993Z",
     "iopub.status.idle": "2024-01-29T16:57:24.870909Z",
     "shell.execute_reply": "2024-01-29T16:57:24.870235Z"
    },
    "papermill": {
     "duration": 0.025738,
     "end_time": "2024-01-29T16:57:24.872741",
     "exception": false,
     "start_time": "2024-01-29T16:57:24.847003",
     "status": "completed"
    },
    "tags": []
   },
   "outputs": [
    {
     "data": {
      "application/javascript": [
       "parent.postMessage({\"jupyterEvent\": \"custom.exercise_interaction\", \"data\": {\"outcomeType\": 1, \"valueTowardsCompletion\": 0.25, \"interactionType\": 1, \"questionType\": 2, \"questionId\": \"2_SelectPredictionData\", \"learnToolsVersion\": \"0.3.4\", \"failureMessage\": \"\", \"exceptionClass\": \"\", \"trace\": \"\"}}, \"*\")"
      ],
      "text/plain": [
       "<IPython.core.display.Javascript object>"
      ]
     },
     "metadata": {},
     "output_type": "display_data"
    },
    {
     "data": {
      "text/markdown": [
       "<span style=\"color:#33cc33\">Correct</span>"
      ],
      "text/plain": [
       "Correct"
      ]
     },
     "metadata": {},
     "output_type": "display_data"
    }
   ],
   "source": [
    "# Create the list of features below\n",
    "feature_names = ['LotArea','YearBuilt','1stFlrSF','2ndFlrSF','FullBath','BedroomAbvGr','TotRmsAbvGrd']\n",
    "\n",
    "# Select data corresponding to features in feature_names\n",
    "X = home_data[feature_names]\n",
    "\n",
    "# Check your answer\n",
    "step_2.check()"
   ]
  },
  {
   "cell_type": "code",
   "execution_count": 6,
   "id": "419a10ca",
   "metadata": {
    "execution": {
     "iopub.execute_input": "2024-01-29T16:57:24.886558Z",
     "iopub.status.busy": "2024-01-29T16:57:24.885919Z",
     "iopub.status.idle": "2024-01-29T16:57:24.889420Z",
     "shell.execute_reply": "2024-01-29T16:57:24.888714Z"
    },
    "papermill": {
     "duration": 0.0125,
     "end_time": "2024-01-29T16:57:24.891262",
     "exception": false,
     "start_time": "2024-01-29T16:57:24.878762",
     "status": "completed"
    },
    "tags": []
   },
   "outputs": [],
   "source": [
    "# step_2.hint()\n",
    "# step_2.solution()"
   ]
  },
  {
   "cell_type": "markdown",
   "id": "10341bf3",
   "metadata": {
    "papermill": {
     "duration": 0.005552,
     "end_time": "2024-01-29T16:57:24.902641",
     "exception": false,
     "start_time": "2024-01-29T16:57:24.897089",
     "status": "completed"
    },
    "tags": []
   },
   "source": [
    "## Review Data\n",
    "Before building a model, take a quick look at **X** to verify it looks sensible"
   ]
  },
  {
   "cell_type": "code",
   "execution_count": 7,
   "id": "d3cf1931",
   "metadata": {
    "execution": {
     "iopub.execute_input": "2024-01-29T16:57:24.916198Z",
     "iopub.status.busy": "2024-01-29T16:57:24.915429Z",
     "iopub.status.idle": "2024-01-29T16:57:24.945792Z",
     "shell.execute_reply": "2024-01-29T16:57:24.944992Z"
    },
    "papermill": {
     "duration": 0.039927,
     "end_time": "2024-01-29T16:57:24.948262",
     "exception": false,
     "start_time": "2024-01-29T16:57:24.908335",
     "status": "completed"
    },
    "tags": []
   },
   "outputs": [
    {
     "name": "stdout",
     "output_type": "stream",
     "text": [
      "             LotArea    YearBuilt     1stFlrSF     2ndFlrSF     FullBath  \\\n",
      "count    1460.000000  1460.000000  1460.000000  1460.000000  1460.000000   \n",
      "mean    10516.828082  1971.267808  1162.626712   346.992466     1.565068   \n",
      "std      9981.264932    30.202904   386.587738   436.528436     0.550916   \n",
      "min      1300.000000  1872.000000   334.000000     0.000000     0.000000   \n",
      "25%      7553.500000  1954.000000   882.000000     0.000000     1.000000   \n",
      "50%      9478.500000  1973.000000  1087.000000     0.000000     2.000000   \n",
      "75%     11601.500000  2000.000000  1391.250000   728.000000     2.000000   \n",
      "max    215245.000000  2010.000000  4692.000000  2065.000000     3.000000   \n",
      "\n",
      "       BedroomAbvGr  TotRmsAbvGrd  \n",
      "count   1460.000000   1460.000000  \n",
      "mean       2.866438      6.517808  \n",
      "std        0.815778      1.625393  \n",
      "min        0.000000      2.000000  \n",
      "25%        2.000000      5.000000  \n",
      "50%        3.000000      6.000000  \n",
      "75%        3.000000      7.000000  \n",
      "max        8.000000     14.000000  \n",
      "   LotArea  YearBuilt  1stFlrSF  2ndFlrSF  FullBath  BedroomAbvGr  \\\n",
      "0     8450       2003       856       854         2             3   \n",
      "1     9600       1976      1262         0         2             3   \n",
      "2    11250       2001       920       866         2             3   \n",
      "3     9550       1915       961       756         1             3   \n",
      "4    14260       2000      1145      1053         2             4   \n",
      "\n",
      "   TotRmsAbvGrd  \n",
      "0             8  \n",
      "1             6  \n",
      "2             6  \n",
      "3             7  \n",
      "4             9  \n"
     ]
    }
   ],
   "source": [
    "# Review data\n",
    "# print description or statistics from X\n",
    "#print(_)\n",
    "print(X.describe())\n",
    "print(X.head())\n",
    "\n",
    "# print the top few lines\n",
    "#print(_)"
   ]
  },
  {
   "cell_type": "markdown",
   "id": "127ac318",
   "metadata": {
    "papermill": {
     "duration": 0.00565,
     "end_time": "2024-01-29T16:57:24.959976",
     "exception": false,
     "start_time": "2024-01-29T16:57:24.954326",
     "status": "completed"
    },
    "tags": []
   },
   "source": [
    "## Step 3: Specify and Fit Model\n",
    "Create a `DecisionTreeRegressor` and save it iowa_model. Ensure you've done the relevant import from sklearn to run this command.\n",
    "\n",
    "Then fit the model you just created using the data in `X` and `y` that you saved above."
   ]
  },
  {
   "cell_type": "code",
   "execution_count": 8,
   "id": "58e12b27",
   "metadata": {
    "execution": {
     "iopub.execute_input": "2024-01-29T16:57:24.973835Z",
     "iopub.status.busy": "2024-01-29T16:57:24.973456Z",
     "iopub.status.idle": "2024-01-29T16:57:24.992738Z",
     "shell.execute_reply": "2024-01-29T16:57:24.991688Z"
    },
    "papermill": {
     "duration": 0.028842,
     "end_time": "2024-01-29T16:57:24.994996",
     "exception": false,
     "start_time": "2024-01-29T16:57:24.966154",
     "status": "completed"
    },
    "tags": []
   },
   "outputs": [
    {
     "data": {
      "application/javascript": [
       "parent.postMessage({\"jupyterEvent\": \"custom.exercise_interaction\", \"data\": {\"outcomeType\": 1, \"valueTowardsCompletion\": 0.25, \"interactionType\": 1, \"questionType\": 2, \"questionId\": \"3_CreateModel\", \"learnToolsVersion\": \"0.3.4\", \"failureMessage\": \"\", \"exceptionClass\": \"\", \"trace\": \"\"}}, \"*\")"
      ],
      "text/plain": [
       "<IPython.core.display.Javascript object>"
      ]
     },
     "metadata": {},
     "output_type": "display_data"
    },
    {
     "data": {
      "text/markdown": [
       "<span style=\"color:#33cc33\">Correct</span>"
      ],
      "text/plain": [
       "Correct"
      ]
     },
     "metadata": {},
     "output_type": "display_data"
    }
   ],
   "source": [
    "from sklearn.tree import DecisionTreeRegressor\n",
    "#specify the model. \n",
    "#For model reproducibility, set a numeric value for random_state when specifying the model\n",
    "iowa_model = DecisionTreeRegressor(random_state=1)\n",
    "\n",
    "# Fit the model\n",
    "iowa_model.fit(X,y)\n",
    "\n",
    "# Check your answer\n",
    "step_3.check()"
   ]
  },
  {
   "cell_type": "code",
   "execution_count": 9,
   "id": "54e9ea48",
   "metadata": {
    "execution": {
     "iopub.execute_input": "2024-01-29T16:57:25.009546Z",
     "iopub.status.busy": "2024-01-29T16:57:25.009117Z",
     "iopub.status.idle": "2024-01-29T16:57:25.013048Z",
     "shell.execute_reply": "2024-01-29T16:57:25.012054Z"
    },
    "papermill": {
     "duration": 0.014005,
     "end_time": "2024-01-29T16:57:25.015372",
     "exception": false,
     "start_time": "2024-01-29T16:57:25.001367",
     "status": "completed"
    },
    "tags": []
   },
   "outputs": [],
   "source": [
    "# step_3.hint()\n",
    "# step_3.solution()"
   ]
  },
  {
   "cell_type": "markdown",
   "id": "fca79455",
   "metadata": {
    "papermill": {
     "duration": 0.005963,
     "end_time": "2024-01-29T16:57:25.028118",
     "exception": false,
     "start_time": "2024-01-29T16:57:25.022155",
     "status": "completed"
    },
    "tags": []
   },
   "source": [
    "## Step 4: Make Predictions\n",
    "Make predictions with the model's `predict` command using `X` as the data. Save the results to a variable called `predictions`."
   ]
  },
  {
   "cell_type": "code",
   "execution_count": 10,
   "id": "b33db0f9",
   "metadata": {
    "execution": {
     "iopub.execute_input": "2024-01-29T16:57:25.042460Z",
     "iopub.status.busy": "2024-01-29T16:57:25.041773Z",
     "iopub.status.idle": "2024-01-29T16:57:25.055101Z",
     "shell.execute_reply": "2024-01-29T16:57:25.054090Z"
    },
    "papermill": {
     "duration": 0.023055,
     "end_time": "2024-01-29T16:57:25.057342",
     "exception": false,
     "start_time": "2024-01-29T16:57:25.034287",
     "status": "completed"
    },
    "tags": []
   },
   "outputs": [
    {
     "name": "stdout",
     "output_type": "stream",
     "text": [
      "[208500. 181500. 223500. ... 266500. 142125. 147500.]\n"
     ]
    },
    {
     "data": {
      "application/javascript": [
       "parent.postMessage({\"jupyterEvent\": \"custom.exercise_interaction\", \"data\": {\"outcomeType\": 1, \"valueTowardsCompletion\": 0.25, \"interactionType\": 1, \"questionType\": 2, \"questionId\": \"4_MakePredictions\", \"learnToolsVersion\": \"0.3.4\", \"failureMessage\": \"\", \"exceptionClass\": \"\", \"trace\": \"\"}}, \"*\")"
      ],
      "text/plain": [
       "<IPython.core.display.Javascript object>"
      ]
     },
     "metadata": {},
     "output_type": "display_data"
    },
    {
     "data": {
      "text/markdown": [
       "<span style=\"color:#33cc33\">Correct</span>"
      ],
      "text/plain": [
       "Correct"
      ]
     },
     "metadata": {},
     "output_type": "display_data"
    }
   ],
   "source": [
    "predictions = iowa_model.predict(X)\n",
    "print(predictions)\n",
    "\n",
    "# Check your answer\n",
    "step_4.check()"
   ]
  },
  {
   "cell_type": "code",
   "execution_count": 11,
   "id": "d8a01a80",
   "metadata": {
    "execution": {
     "iopub.execute_input": "2024-01-29T16:57:25.072109Z",
     "iopub.status.busy": "2024-01-29T16:57:25.071527Z",
     "iopub.status.idle": "2024-01-29T16:57:25.075586Z",
     "shell.execute_reply": "2024-01-29T16:57:25.074742Z"
    },
    "papermill": {
     "duration": 0.013647,
     "end_time": "2024-01-29T16:57:25.077463",
     "exception": false,
     "start_time": "2024-01-29T16:57:25.063816",
     "status": "completed"
    },
    "tags": []
   },
   "outputs": [],
   "source": [
    "# step_4.hint()\n",
    "# step_4.solution()"
   ]
  },
  {
   "cell_type": "markdown",
   "id": "543f7916",
   "metadata": {
    "papermill": {
     "duration": 0.0062,
     "end_time": "2024-01-29T16:57:25.090091",
     "exception": false,
     "start_time": "2024-01-29T16:57:25.083891",
     "status": "completed"
    },
    "tags": []
   },
   "source": [
    "## Think About Your Results\n",
    "\n",
    "Use the `head` method to compare the top few predictions to the actual home values (in `y`) for those same homes. Anything surprising?\n"
   ]
  },
  {
   "cell_type": "code",
   "execution_count": 12,
   "id": "7ef690a2",
   "metadata": {
    "execution": {
     "iopub.execute_input": "2024-01-29T16:57:25.105059Z",
     "iopub.status.busy": "2024-01-29T16:57:25.104453Z",
     "iopub.status.idle": "2024-01-29T16:57:25.111582Z",
     "shell.execute_reply": "2024-01-29T16:57:25.110474Z"
    },
    "papermill": {
     "duration": 0.017042,
     "end_time": "2024-01-29T16:57:25.113683",
     "exception": false,
     "start_time": "2024-01-29T16:57:25.096641",
     "status": "completed"
    },
    "tags": []
   },
   "outputs": [
    {
     "data": {
      "text/plain": [
       "0    208500\n",
       "1    181500\n",
       "2    223500\n",
       "3    140000\n",
       "4    250000\n",
       "Name: SalePrice, dtype: int64"
      ]
     },
     "execution_count": 12,
     "metadata": {},
     "output_type": "execute_result"
    }
   ],
   "source": [
    "# You can write code in this cell\n",
    "y.head()"
   ]
  },
  {
   "cell_type": "markdown",
   "id": "9dc2ef87",
   "metadata": {
    "papermill": {
     "duration": 0.006339,
     "end_time": "2024-01-29T16:57:25.126713",
     "exception": false,
     "start_time": "2024-01-29T16:57:25.120374",
     "status": "completed"
    },
    "tags": []
   },
   "source": [
    "It's natural to ask how accurate the model's predictions will be and how you can improve that. That will be you're next step.\n",
    "\n",
    "# Keep Going\n",
    "\n",
    "You are ready for **[Model Validation](https://www.kaggle.com/dansbecker/model-validation).**\n"
   ]
  },
  {
   "cell_type": "markdown",
   "id": "68544c29",
   "metadata": {
    "papermill": {
     "duration": 0.006305,
     "end_time": "2024-01-29T16:57:25.139909",
     "exception": false,
     "start_time": "2024-01-29T16:57:25.133604",
     "status": "completed"
    },
    "tags": []
   },
   "source": [
    "---\n",
    "\n",
    "\n",
    "\n",
    "\n",
    "*Have questions or comments? Visit the [course discussion forum](https://www.kaggle.com/learn/intro-to-machine-learning/discussion) to chat with other learners.*"
   ]
  }
 ],
 "metadata": {
  "kaggle": {
   "accelerator": "none",
   "dataSources": [
    {
     "databundleVersionId": 111096,
     "sourceId": 10211,
     "sourceType": "competition"
    },
    {
     "datasetId": 11167,
     "sourceId": 15520,
     "sourceType": "datasetVersion"
    },
    {
     "datasetId": 2709,
     "sourceId": 38454,
     "sourceType": "datasetVersion"
    }
   ],
   "isGpuEnabled": false,
   "isInternetEnabled": false,
   "language": "python",
   "sourceType": "notebook"
  },
  "kernelspec": {
   "display_name": "Python 3",
   "language": "python",
   "name": "python3"
  },
  "language_info": {
   "codemirror_mode": {
    "name": "ipython",
    "version": 3
   },
   "file_extension": ".py",
   "mimetype": "text/x-python",
   "name": "python",
   "nbconvert_exporter": "python",
   "pygments_lexer": "ipython3",
   "version": "3.10.12"
  },
  "papermill": {
   "default_parameters": {},
   "duration": 5.877857,
   "end_time": "2024-01-29T16:57:25.767007",
   "environment_variables": {},
   "exception": null,
   "input_path": "__notebook__.ipynb",
   "output_path": "__notebook__.ipynb",
   "parameters": {},
   "start_time": "2024-01-29T16:57:19.889150",
   "version": "2.4.0"
  }
 },
 "nbformat": 4,
 "nbformat_minor": 5
}
